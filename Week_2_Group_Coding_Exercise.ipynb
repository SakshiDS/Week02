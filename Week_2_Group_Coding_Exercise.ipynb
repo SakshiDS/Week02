{
 "cells": [
  {
   "cell_type": "code",
   "execution_count": 11,
   "id": "c5e6d830",
   "metadata": {},
   "outputs": [
    {
     "name": "stdout",
     "output_type": "stream",
     "text": [
      "Weird\n",
      "Not Weird\n",
      "Number should be between 1 and 100 inclusive range\n"
     ]
    }
   ],
   "source": [
    "# Defining function that an integer n\n",
    "\n",
    "def task(n):\n",
    "    #checking constraints\n",
    "    \n",
    "    if n>=1 and n<=100:\n",
    "        # If n is odd, print Weird\n",
    "        \n",
    "        if n % 2 != 0:\n",
    "            print(\"Weird\")\n",
    "            \n",
    "        # If n is even and in the inclusive range of 2 to 5, print Not Weird\n",
    "        \n",
    "        elif n in range(2,6):\n",
    "            print(\"Not Weird\")\n",
    "            \n",
    "        # If n is even and in the inclusive range of 6 to 20, print Weird\n",
    "        \n",
    "        elif n in range(6,20):\n",
    "            print(\"Weird\")\n",
    "            \n",
    "        # If n is even and greater than 20, print Not Weird\n",
    "        \n",
    "        elif n > 20:\n",
    "            print(\"Not Weird\")\n",
    "            \n",
    "    # If the constraint for input number is not met\n",
    "    else:\n",
    "        print(\"Number should be between 1 and 100 inclusive range\")\n",
    "            \n",
    "# Sample input 0\n",
    "task(3)\n",
    "\n",
    "# Sample input 1\n",
    "task(24)\n",
    "\n",
    "# Checking constraint\n",
    "\n",
    "task(121)"
   ]
  },
  {
   "cell_type": "code",
   "execution_count": 12,
   "id": "556780a9",
   "metadata": {},
   "outputs": [
    {
     "name": "stdout",
     "output_type": "stream",
     "text": [
      "Weird\n",
      "Not Weird\n",
      "Number should be between 1 and 100 inclusive range\n"
     ]
    }
   ],
   "source": [
    "# Rewriting code to first check even number conditions \n",
    "\n",
    "def task(n):\n",
    "    if n>=1 and n<=100:\n",
    "        if n%2 == 0 and n in range(2,6):\n",
    "            print(\"Not Weird\")\n",
    "        elif n%2 == 0 and n in range(6,20):\n",
    "            print(\"Weird\")\n",
    "        elif n%2 == 0 and n > 20:\n",
    "            print(\"Not Weird\")\n",
    "        else:\n",
    "            print(\"Weird\")\n",
    "    else:\n",
    "        print(\"Number should be between 1 and 100 inclusive range\")\n",
    "        \n",
    "task(3)\n",
    "task(24)\n",
    "\n",
    "task(121)"
   ]
  },
  {
   "cell_type": "code",
   "execution_count": null,
   "id": "64b63a06",
   "metadata": {},
   "outputs": [],
   "source": []
  }
 ],
 "metadata": {
  "kernelspec": {
   "display_name": "Python 3 (ipykernel)",
   "language": "python",
   "name": "python3"
  },
  "language_info": {
   "codemirror_mode": {
    "name": "ipython",
    "version": 3
   },
   "file_extension": ".py",
   "mimetype": "text/x-python",
   "name": "python",
   "nbconvert_exporter": "python",
   "pygments_lexer": "ipython3",
   "version": "3.8.10"
  }
 },
 "nbformat": 4,
 "nbformat_minor": 5
}
