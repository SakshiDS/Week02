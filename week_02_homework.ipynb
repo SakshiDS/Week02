{
 "cells": [
  {
   "cell_type": "markdown",
   "metadata": {},
   "source": [
    "### Homework Week 02\n",
    "#### Loops, Functions and Classes\n",
    "1. Do this homework **in order**. \n",
    "2. Be sure to have a solid understanding of Functions before working with Classes. "
   ]
  },
  {
   "cell_type": "markdown",
   "metadata": {},
   "source": [
    "1. Iterate through `integers_list` and `print` values that are multiples of 7."
   ]
  },
  {
   "cell_type": "code",
   "execution_count": 2,
   "metadata": {},
   "outputs": [
    {
     "name": "stdout",
     "output_type": "stream",
     "text": [
      "756\n",
      "595\n",
      "980\n",
      "63\n",
      "931\n",
      "322\n"
     ]
    }
   ],
   "source": [
    "import random\n",
    "integers_list = [random.randint(0,1000) for i in range(50)] # a list comprehension\n",
    "\n",
    "# your code here\n",
    "\n",
    "x = 0\n",
    "\n",
    "while x < 50:\n",
    "    if integers_list[x] % 7 == 0:\n",
    "        print (integers_list[x])\n",
    "    x += 1\n"
   ]
  },
  {
   "cell_type": "markdown",
   "metadata": {},
   "source": [
    "2. Create `list` of 5 colors as `strings` which are all lowercase. \n",
    "Iterate through the `list` and capitalize each color. \n",
    "You should modify the `list` in place. "
   ]
  },
  {
   "cell_type": "code",
   "execution_count": 13,
   "metadata": {},
   "outputs": [
    {
     "name": "stdout",
     "output_type": "stream",
     "text": [
      "['Yellow', 'Green', 'Blue', 'Red', 'White']\n"
     ]
    }
   ],
   "source": [
    "color_list = ['yellow','green','blue','red','white']\n",
    "\n",
    "x = 0\n",
    "\n",
    "while x < 5:\n",
    "    color_list[x] = color_list[x].capitalize()\n",
    "    x += 1\n",
    "    \n",
    "print(color_list)"
   ]
  },
  {
   "cell_type": "markdown",
   "metadata": {},
   "source": [
    "3. Loop through the string and eliminate all the asterisks."
   ]
  },
  {
   "cell_type": "code",
   "execution_count": 24,
   "metadata": {},
   "outputs": [
    {
     "name": "stdout",
     "output_type": "stream",
     "text": [
      "My computer has gone crazy and added extra symbols.\n"
     ]
    }
   ],
   "source": [
    "asterisk = 'My *compu*ter has go*ne craz***y an*d add*ed extra *symbols.*'\n",
    "# your code here\n",
    "\n",
    "for en, char in enumerate(asterisk):\n",
    "    \n",
    "    if char == '*':\n",
    "        asterisk = asterisk.replace('*','')\n",
    "        \n",
    "print (asterisk)"
   ]
  },
  {
   "cell_type": "markdown",
   "metadata": {},
   "source": [
    "4. Write a `while` loop that increments `counter` until it reaches 7."
   ]
  },
  {
   "cell_type": "code",
   "execution_count": 27,
   "metadata": {},
   "outputs": [
    {
     "name": "stdout",
     "output_type": "stream",
     "text": [
      "1\n",
      "2\n",
      "3\n",
      "4\n",
      "5\n",
      "6\n",
      "7\n"
     ]
    }
   ],
   "source": [
    "counter = 0\n",
    "# your code here\n",
    "\n",
    "while counter < 7:\n",
    "    counter += 1\n",
    "    print(counter)"
   ]
  },
  {
   "cell_type": "markdown",
   "metadata": {},
   "source": [
    "5. Loop over `double_trouble` and eliminate any 'mosquito'."
   ]
  },
  {
   "cell_type": "code",
   "execution_count": 17,
   "metadata": {},
   "outputs": [
    {
     "name": "stdout",
     "output_type": "stream",
     "text": [
      "Orignal list :\n",
      "['cat', 'dog', ['mouse', 'mosquito', 'bat', 'mosquito'], ['elephant', 'dog', 'whale', 'lion', 32, 'mosquito'], 'bird', [], 'mosquito']\n",
      "List after removing the string 'mosquito' :\n",
      "['cat', 'dog', ['mouse', 'bat'], ['elephant', 'dog', 'whale', 'lion', 32], 'bird', []]\n"
     ]
    }
   ],
   "source": [
    "double_trouble = ['cat', 'dog', ['mouse','mosquito','bat','mosquito'],['elephant','dog','whale','lion',32,'mosquito'],'bird',[],'mosquito']\n",
    "# your code here\n",
    "# Original list\n",
    "print('Orignal list :')\n",
    "print(double_trouble)\n",
    "\n",
    "#Checking for string occourences in the list and removing them\n",
    "\n",
    "counter1 = double_trouble.count('mosquito')\n",
    "\n",
    "while counter1 > 0:\n",
    "    double_trouble.remove('mosquito')    \n",
    "    counter1 = double_trouble.count('mosquito')\n",
    "\n",
    "#Checking for string occourences in the nested lists and removing them\n",
    "    \n",
    "for dt in double_trouble:\n",
    "    if type(dt) is list and 'mosquito' in dt:\n",
    "        counter2 = dt.count('mosquito')\n",
    "        #print(counter)\n",
    "        while counter2 > 0:\n",
    "            dt.remove('mosquito')\n",
    "            counter2 = dt.count('mosquito')\n",
    "\n",
    "print(\"List after removing the string 'mosquito' :\")\n",
    "print(double_trouble)\n",
    "    "
   ]
  },
  {
   "cell_type": "markdown",
   "metadata": {},
   "source": [
    "6. Loop through the dictionary of phone numbers and correct the parentheses. "
   ]
  },
  {
   "cell_type": "code",
   "execution_count": 56,
   "metadata": {},
   "outputs": [
    {
     "name": "stdout",
     "output_type": "stream",
     "text": [
      "{'Jill': '1-(555)-567-8910', 'Jen': '1-(555)-567-8910', 'Jan': '1-(555)-567-8910', 'Jane': '1-(555)-567-8910', 'Jerri': '1-(555)-567-8910'}\n"
     ]
    }
   ],
   "source": [
    "phone_numbers = {'Jill':'1-)555(-567-8910',\n",
    "                'Jen':'1-)555(-567-8910',\n",
    "                'Jan':'1-)555(-567-8910',\n",
    "                'Jane':'1-)555(-567-8910',\n",
    "                'Jerri':'1-)555(-567-8910'}\n",
    "\n",
    "for name, num in phone_numbers.items():\n",
    "    \n",
    "    num = num.replace('(',')',1)\n",
    "    num = num.replace(')','(',1)\n",
    "    \n",
    "    phone_numbers[name] = num\n",
    "\n",
    "print(phone_numbers)\n"
   ]
  },
  {
   "cell_type": "markdown",
   "metadata": {},
   "source": [
    "7. Create a function that takes in two numbers.\n",
    "\n",
    "If the numbers are both even add them and `return` the result.\n",
    "\n",
    "If the numbers are odd, subtract the second number from the first and `return` the result.\n",
    "\n",
    "(Assume you'll always get integers)"
   ]
  },
  {
   "cell_type": "code",
   "execution_count": 63,
   "metadata": {},
   "outputs": [
    {
     "name": "stdout",
     "output_type": "stream",
     "text": [
      "62\n",
      "38\n",
      "-46\n",
      "one is odd and the other is even\n",
      "one is odd and the other is even\n"
     ]
    }
   ],
   "source": [
    "def incoming(x,y):\n",
    "    \n",
    "    # checking if both numbers are even and if true returning sum\n",
    "    if x % 2 == 0 and y % 2 == 0:\n",
    "        print(x+y)\n",
    "    # checking if both numbers are odd and if true returning difference between the second and first number\n",
    "    elif x % 2 != 0 and y % 2 != 0:\n",
    "        print(y-x)\n",
    "    else:\n",
    "        print('one is odd and the other is even')\n",
    "        \n",
    "        \n",
    "# Checking for both even        \n",
    "incoming(20,42)\n",
    "# Checking for both odd where x<y\n",
    "incoming(13,51)\n",
    "# Checking for both odd where x>y\n",
    "incoming(63,17)\n",
    "# Checking for x odd and y even\n",
    "incoming(41,50)\n",
    "# Checking for x even and y odd\n",
    "incoming(2,51)"
   ]
  },
  {
   "cell_type": "markdown",
   "metadata": {},
   "source": [
    "8. Create a function that takes in a `string` and removes all non-alphanumeric characters."
   ]
  },
  {
   "cell_type": "code",
   "execution_count": 3,
   "metadata": {},
   "outputs": [
    {
     "name": "stdout",
     "output_type": "stream",
     "text": [
      "okletstestthiseverypossiblewy\n"
     ]
    }
   ],
   "source": [
    "def character(random):\n",
    "    \n",
    "    char_list = []\n",
    "    \n",
    "    for char in random:\n",
    "        if char.isalnum():\n",
    "            char_list.append(char)\n",
    "\n",
    "    print(\"\".join(char_list))\n",
    "        \n",
    "\n",
    "character(\"ok let's test this @ every^@#$ possi()ble w@#$y\")"
   ]
  },
  {
   "cell_type": "code",
   "execution_count": 4,
   "metadata": {},
   "outputs": [
    {
     "name": "stdout",
     "output_type": "stream",
     "text": [
      "thisstringhassomeweirdvalues02\n"
     ]
    }
   ],
   "source": [
    "character(\"this string has %^&! some weird values02\")"
   ]
  },
  {
   "cell_type": "markdown",
   "metadata": {},
   "source": [
    "9. Create a function to convert Celsius to Farenheight and print the result. \n",
    "\n",
    "Bonus(Optional): Include the degree symbol in the output."
   ]
  },
  {
   "cell_type": "code",
   "execution_count": 5,
   "metadata": {},
   "outputs": [
    {
     "name": "stdout",
     "output_type": "stream",
     "text": [
      "428.0°\n"
     ]
    }
   ],
   "source": [
    "def c2f(cel):\n",
    "    far = cel * 1.8 + 32\n",
    "    print(str(far)+'°')\n",
    "    \n",
    "c2f(220)"
   ]
  },
  {
   "cell_type": "markdown",
   "metadata": {},
   "source": [
    "10. Create a function that prints the fibonacci sequence from 0 to 25. "
   ]
  },
  {
   "cell_type": "code",
   "execution_count": 6,
   "metadata": {},
   "outputs": [
    {
     "name": "stdout",
     "output_type": "stream",
     "text": [
      "[0, 1, 1, 2, 3, 5, 8, 13, 21]\n"
     ]
    }
   ],
   "source": [
    "def fibonacci25():\n",
    "    series = [0,1]\n",
    "    x = 0\n",
    "    y = 1\n",
    "    while x+y < 25:\n",
    "        z = x + y\n",
    "        series.append(z)\n",
    "        x = y\n",
    "        y = z\n",
    "    \n",
    "    print(series)\n",
    "\n",
    "fibonacci25()"
   ]
  },
  {
   "cell_type": "markdown",
   "metadata": {},
   "source": [
    "11. Create two functions. One function that accepts args `a` and `b` and returns `a + b`. \n",
    "\n",
    "Create a second function that accepts the first function as the 3rd argument as well as a and b.\n"
   ]
  },
  {
   "cell_type": "code",
   "execution_count": 7,
   "metadata": {},
   "outputs": [
    {
     "name": "stdout",
     "output_type": "stream",
     "text": [
      "5\n"
     ]
    },
    {
     "data": {
      "text/plain": [
       "10"
      ]
     },
     "execution_count": 7,
     "metadata": {},
     "output_type": "execute_result"
    }
   ],
   "source": [
    "# you do the first function\n",
    "def first_function(a,b):\n",
    "    sum = a+b\n",
    "    return sum\n",
    "\n",
    "# second function\n",
    "# Here's some starter code to avoid confusion.\n",
    "# Functions can be passed around like any other object. \n",
    "def second_function(a,b,first_function):\n",
    "    sum1 = first_function\n",
    "    sum2 = sum1 +a +b\n",
    "    return sum2\n",
    "\n",
    "f_1 = first_function(2,3)\n",
    "\n",
    "print(f_1)\n",
    "\n",
    "second_function(2,3,f_1)"
   ]
  },
  {
   "cell_type": "code",
   "execution_count": null,
   "metadata": {},
   "outputs": [],
   "source": []
  },
  {
   "cell_type": "markdown",
   "metadata": {},
   "source": [
    "12. Create a function that prints prime number from 0 to 100. "
   ]
  },
  {
   "cell_type": "code",
   "execution_count": 7,
   "metadata": {},
   "outputs": [
    {
     "name": "stdout",
     "output_type": "stream",
     "text": [
      "2\n",
      "3\n",
      "5\n",
      "7\n",
      "11\n",
      "13\n",
      "17\n",
      "19\n",
      "23\n",
      "29\n",
      "31\n",
      "37\n",
      "41\n",
      "43\n",
      "47\n",
      "53\n",
      "59\n",
      "61\n",
      "67\n",
      "71\n",
      "73\n",
      "79\n",
      "83\n",
      "89\n",
      "97\n"
     ]
    }
   ],
   "source": [
    "def prime100():\n",
    "    \n",
    "    for x in range(0,101):\n",
    "        if x > 1:\n",
    "            for d in range(2,x):\n",
    "                if x % d == 0:\n",
    "                    break\n",
    "            else:\n",
    "                print(x)\n",
    "\n",
    "    \n",
    "prime100()\n",
    "            "
   ]
  },
  {
   "cell_type": "markdown",
   "metadata": {},
   "source": [
    "13. Now's your chance to show off. Create a function that does something that has not already been done in the homework. Get creative. "
   ]
  },
  {
   "cell_type": "code",
   "execution_count": 12,
   "metadata": {},
   "outputs": [
    {
     "name": "stdout",
     "output_type": "stream",
     "text": [
      "Enter you birthdate in mm\\dd\\yyyy format : 10/25/1987\n",
      "Your age as of today is :  33  years  11  months and  4  days\n"
     ]
    }
   ],
   "source": [
    "# Creating a function that takes birth date as input and returns age in years, months and days\n",
    "\n",
    "def age(bdate):    \n",
    "    from datetime import date\n",
    "\n",
    "    today = date.today()\n",
    "    \n",
    "    # Converting th input string into date format    \n",
    "    month = int(bdate[0:2])\n",
    "    day = int(bdate[3:5])\n",
    "    year = int(bdate[6:])\n",
    "\n",
    "    b_date = date(year,month,day)\n",
    "    \n",
    "    # Calculating age in years\n",
    "    age_y = int((today - b_date).days / 365)\n",
    "    \n",
    "    # Calculating age in months\n",
    "    age_m = int(today.month - b_date.month)\n",
    "\n",
    "    if age_m < 0:\n",
    "        age_m = 12 + age_m\n",
    "    \n",
    "    # Calculating age in days and correcting for the months already considered in age_m\n",
    "    \n",
    "    days_in_p_year = today - date(today.year,1,1)\n",
    "    days_in_b_year = date(today.year,today.month,day) - date(today.year,1,1)\n",
    "    if days_in_p_year.days > days_in_b_year.days:\n",
    "        age_d = days_in_p_year.days - days_in_b_year.days\n",
    "    else:\n",
    "        age_d = days_in_b_year.days - days_in_p_year.days\n",
    "\n",
    "    # Printing the final result\n",
    "    print(\"Your age as of today is : \",age_y,\" years \",age_m,\" months and \",age_d,\" days\")\n",
    "    \n",
    "bdate = input(\"Enter you birthdate in mm\\dd\\yyyy format : \")\n",
    "age(bdate)"
   ]
  },
  {
   "cell_type": "markdown",
   "metadata": {},
   "source": [
    "14. Add an attribute called `age` to the `__init__` method of the `Person` class.\n",
    "\n",
    "Create an instance of `Person()` and print the `age`."
   ]
  },
  {
   "cell_type": "code",
   "execution_count": 11,
   "metadata": {},
   "outputs": [
    {
     "name": "stdout",
     "output_type": "stream",
     "text": [
      "Age: 33\n"
     ]
    }
   ],
   "source": [
    "class Person():\n",
    "    \n",
    "    def __init__(self, name, occupation, country, age):\n",
    "        self.name = name\n",
    "        self.occupation = occupation\n",
    "        self.country = country\n",
    "        # you attribute goes here\n",
    "        self.age = age\n",
    "\n",
    "p = Person('Sakshi','Mom','USA',33)\n",
    "print(\"Age:\", p.age)"
   ]
  },
  {
   "cell_type": "markdown",
   "metadata": {},
   "source": [
    "15. Creat an instance of the class `Candy`. \n",
    "\n",
    "Add an attribute called `cost` on your instance. (Don't modify the class starter code.)\n",
    "\n",
    "Print the instance's `cost` attribute.\n",
    "\n",
    "Bonus(optional): Add a function of your choice to the instance. "
   ]
  },
  {
   "cell_type": "code",
   "execution_count": 123,
   "metadata": {},
   "outputs": [
    {
     "name": "stdout",
     "output_type": "stream",
     "text": [
      "10\n"
     ]
    }
   ],
   "source": [
    "class Candy():\n",
    "    \n",
    "    def __init__(self, kind='chocolate', brand= 'Nestle', caramel = False):\n",
    "        self.type = kind\n",
    "        self.brand = brand\n",
    "        self.caramel = caramel\n",
    "        \n",
    "    def add_cost(self,new_cost):\n",
    "        self.cost = new_cost\n",
    "\n",
    "candy = Candy()\n",
    "candy.add_cost(10)\n",
    "\n",
    "print(candy.cost)"
   ]
  },
  {
   "cell_type": "markdown",
   "metadata": {},
   "source": [
    "16. Add an instance method to our class `Greet` that prints a greeting including `greeting` and the `name`. \n",
    "\n",
    "Example:\n",
    "\n",
    "`jen = Greet()`\n",
    "\n",
    "`jen.greet_method()` returns `\"Hello Jennifer\"`\n"
   ]
  },
  {
   "cell_type": "code",
   "execution_count": 131,
   "metadata": {},
   "outputs": [
    {
     "name": "stdout",
     "output_type": "stream",
     "text": [
      "Hello Jennifer\n"
     ]
    }
   ],
   "source": [
    "class Greet():\n",
    "    \n",
    "    def __init__(self, name='Jennifer', language='english', greeting=\"Hello\"):\n",
    "        \n",
    "        self.language = language\n",
    "        self.greeting = greeting\n",
    "        self.name = name\n",
    "        \n",
    "    # Your method here\n",
    "    def greet_method(self):\n",
    "        print(self.greeting+' '+self.name)\n",
    "  \n",
    "jen = Greet()\n",
    "\n",
    "jen.greet_method()"
   ]
  },
  {
   "cell_type": "markdown",
   "metadata": {},
   "source": [
    "17. Add a line to the follwing code that will increment `employee_count` by 1 for **all** instances of `Employee`.\n",
    "\n",
    "The code should run each time an new instance of`Employee` is created. \n",
    "\n",
    "Hint: You don't need methods. Just a single expression will work. And it does NOT inlcude the word `self`. "
   ]
  },
  {
   "cell_type": "code",
   "execution_count": 134,
   "metadata": {},
   "outputs": [
    {
     "name": "stdout",
     "output_type": "stream",
     "text": [
      "1\n",
      "2\n"
     ]
    }
   ],
   "source": [
    "class Employee():\n",
    "    \n",
    "    # class variables. Applies to all instances of this class during creation.\n",
    "    yearly_bonus = 1.01 # not used anywhere in this example\n",
    "    \n",
    "    employee_count = 0 # This variable will change for all instances of the class.\n",
    "    \n",
    "       \n",
    "    def __init__(self,name, age, base_pay): # creates an instance of our object with unique attributes\n",
    "        \n",
    "        self.name = name\n",
    "        self.age = age\n",
    "        self.base_pay = base_pay\n",
    "            \n",
    "        # your code here inside the __init__ method. \n",
    "        Employee.employee_count += 1\n",
    "        \n",
    "emp1 = Employee('Matt', 32,40000)\n",
    "print(emp1.employee_count) # should be 1 if the __init__ method is working properly. \n",
    "\n",
    "emp2 = emp1 = Employee('Joe', 22,50000) # should be 2 if the __init__ method is working properly. \n",
    "print(emp2.employee_count)\n",
    "\n"
   ]
  },
  {
   "cell_type": "markdown",
   "metadata": {},
   "source": [
    "18 . Add a `static` method of your choice to the class below. \n",
    "\n",
    "Instaiate an object and call your method. \n",
    "\n",
    "What is a static method anyway? \n"
   ]
  },
  {
   "cell_type": "code",
   "execution_count": 17,
   "metadata": {},
   "outputs": [
    {
     "name": "stdout",
     "output_type": "stream",
     "text": [
      "Meryl Streep: This is my line...\n",
      "Mery Streep is the best actress ever. Period.\n"
     ]
    }
   ],
   "source": [
    "class Actress():\n",
    "    def __init__(self, name = 'Meryl Streep'):\n",
    "        self.name = name\n",
    "        \n",
    "    def act(self, line):\n",
    "        print(f'{self.name}: {line}')\n",
    "        \n",
    "    # your static method goes here.\n",
    "    @staticmethod\n",
    "    def truth():\n",
    "        print('Mery Streep is the best actress ever. Period.')\n",
    "        \n",
    "meryl = Actress()\n",
    "meryl.act('This is my line...')\n",
    "\n",
    "Actress.truth()"
   ]
  },
  {
   "cell_type": "markdown",
   "metadata": {},
   "source": [
    "19. Create a `class` called Car that accepts 3 attributes (make, model and year). \n",
    "\n",
    "In the `__init__` method give your instance those three attributes. \n",
    "\n",
    "Instantiate (create) an object that is your dream car. \n",
    "\n",
    "Print the make of your dream car using the object attributes. \n",
    "\n",
    "Then call the dir() method on your new object. (See your attrs are now included!)"
   ]
  },
  {
   "cell_type": "code",
   "execution_count": 15,
   "metadata": {},
   "outputs": [
    {
     "name": "stdout",
     "output_type": "stream",
     "text": [
      "Jaguar\n"
     ]
    },
    {
     "data": {
      "text/plain": [
       "['__class__',\n",
       " '__delattr__',\n",
       " '__dict__',\n",
       " '__dir__',\n",
       " '__doc__',\n",
       " '__eq__',\n",
       " '__format__',\n",
       " '__ge__',\n",
       " '__getattribute__',\n",
       " '__gt__',\n",
       " '__hash__',\n",
       " '__init__',\n",
       " '__init_subclass__',\n",
       " '__le__',\n",
       " '__lt__',\n",
       " '__module__',\n",
       " '__ne__',\n",
       " '__new__',\n",
       " '__reduce__',\n",
       " '__reduce_ex__',\n",
       " '__repr__',\n",
       " '__setattr__',\n",
       " '__sizeof__',\n",
       " '__str__',\n",
       " '__subclasshook__',\n",
       " '__weakref__',\n",
       " 'make',\n",
       " 'model',\n",
       " 'year']"
      ]
     },
     "execution_count": 15,
     "metadata": {},
     "output_type": "execute_result"
    }
   ],
   "source": [
    "class Car():\n",
    "    \n",
    "    def __init__(self,new_make,new_model,new_year):\n",
    "        \n",
    "        self.make = new_make\n",
    "        self.model = new_model\n",
    "        self.year = new_year\n",
    "\n",
    "d_car = Car('Jaguar','SUV','2021')\n",
    "\n",
    "print(d_car.make)\n",
    "\n",
    "dir(d_car)"
   ]
  },
  {
   "cell_type": "markdown",
   "metadata": {},
   "source": [
    "20. Create a class called `Dice` that accepts a single argument called `number_of_dice`. \n",
    "\n",
    "Create an instance method called `roll`. \n",
    "\n",
    "`roll` should randomly pick a number for each die when called and print the results as a list. \n",
    "\n",
    "Create an instance of `Dice`. Then call `roll()` on your instance.\n",
    "\n",
    "Hint: Inside your class create an empty list called `dice`."
   ]
  },
  {
   "cell_type": "code",
   "execution_count": 16,
   "metadata": {},
   "outputs": [
    {
     "name": "stdout",
     "output_type": "stream",
     "text": [
      "6\n",
      "1\n",
      "3\n",
      "3\n",
      "3\n"
     ]
    }
   ],
   "source": [
    "# Helpful starter code\n",
    "class Dice():\n",
    "       \n",
    "    def __init__(self,num):\n",
    "        self.number_of_dice = num        \n",
    "    \n",
    "    def roll(self):\n",
    "        from random import randrange\n",
    "        \n",
    "        i = 0\n",
    "        \n",
    "        while i < self.number_of_dice:\n",
    "            print(randrange(1,7))\n",
    "            i += 1\n",
    "                  # randomly generates a number between 1 and 6\n",
    "            \n",
    "\n",
    "d1 = Dice(5)\n",
    "d1.roll()"
   ]
  },
  {
   "cell_type": "markdown",
   "metadata": {},
   "source": [
    "Bonus(optional):\n",
    "\n",
    "0. Create a class of your choice.\n",
    "1. Give it instance variables and class variables. \n",
    "2. Give it a classmethod. \n",
    "3. Give it a regular method (instance method).\n",
    "4. Give it a static method. \n",
    "\n",
    "Show how each works by printing an example. "
   ]
  },
  {
   "cell_type": "code",
   "execution_count": 19,
   "metadata": {},
   "outputs": [
    {
     "name": "stdout",
     "output_type": "stream",
     "text": [
      "CLASS METHOD\n",
      "Just called from class. No instance needed\n",
      "Instance 1\n",
      "INSTANCE METHOD\n",
      "This is example number:  1\n",
      "Need an instance to call me\n",
      "STATIC METHOD\n",
      "True\n"
     ]
    }
   ],
   "source": [
    "class Example():\n",
    "    \n",
    "    # class variable\n",
    "    example_number = 0\n",
    "\n",
    "    def __init__(self,input_str):\n",
    "        # instance variable\n",
    "        self.msg = input_str\n",
    "        Example.example_number += 1\n",
    "    \n",
    "    @classmethod\n",
    "    def class_output(cls):\n",
    "        print(\"CLASS METHOD\")\n",
    "        print('Just called from class. No instance needed')\n",
    "        \n",
    "    def instance_output(self):\n",
    "        print(\"INSTANCE METHOD\")\n",
    "        print('This is example number: ',Example.example_number)\n",
    "        print('Need an instance to call me')\n",
    "    \n",
    "    @staticmethod\n",
    "    def static_output(input_word):\n",
    "        print(\"STATIC METHOD\")\n",
    "        print(input_word == 'static')\n",
    "        \n",
    "\n",
    "Example.class_output()\n",
    "\n",
    "ex_1 = Example('Instance 1')\n",
    "print(ex_1.msg)\n",
    "ex_1.instance_output()\n",
    "\n",
    "Example.static_output('static')"
   ]
  },
  {
   "cell_type": "code",
   "execution_count": null,
   "metadata": {},
   "outputs": [],
   "source": []
  }
 ],
 "metadata": {
  "kernelspec": {
   "display_name": "Python 3 (ipykernel)",
   "language": "python",
   "name": "python3"
  },
  "language_info": {
   "codemirror_mode": {
    "name": "ipython",
    "version": 3
   },
   "file_extension": ".py",
   "mimetype": "text/x-python",
   "name": "python",
   "nbconvert_exporter": "python",
   "pygments_lexer": "ipython3",
   "version": "3.8.10"
  }
 },
 "nbformat": 4,
 "nbformat_minor": 4
}
